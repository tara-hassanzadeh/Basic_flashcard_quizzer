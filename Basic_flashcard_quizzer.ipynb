{
  "nbformat": 4,
  "nbformat_minor": 0,
  "metadata": {
    "colab": {
      "provenance": [],
      "authorship_tag": "ABX9TyMurHA+hb5zniYrZA7cTOB9",
      "include_colab_link": true
    },
    "kernelspec": {
      "name": "python3",
      "display_name": "Python 3"
    },
    "language_info": {
      "name": "python"
    }
  },
  "cells": [
    {
      "cell_type": "markdown",
      "metadata": {
        "id": "view-in-github",
        "colab_type": "text"
      },
      "source": [
        "<a href=\"https://colab.research.google.com/github/tara-hassanzadeh/Basic_flashcard_quizzer/blob/main/Basic_flashcard_quizzer.ipynb\" target=\"_parent\"><img src=\"https://colab.research.google.com/assets/colab-badge.svg\" alt=\"Open In Colab\"/></a>"
      ]
    },
    {
      "cell_type": "markdown",
      "source": [
        "Basic flashcard quizzer"
      ],
      "metadata": {
        "id": "v6Tr7SOLSexA"
      }
    },
    {
      "cell_type": "code",
      "execution_count": 6,
      "metadata": {
        "colab": {
          "base_uri": "https://localhost:8080/"
        },
        "id": "jeuKW-bfScaC",
        "outputId": "e55583b4-a8e6-4fdc-d6c4-b258bae5e393"
      },
      "outputs": [
        {
          "output_type": "stream",
          "name": "stdout",
          "text": [
            "wlcome to the quizzer. type 'exit' to quit.\n",
            "\n",
            "Question 1: What is the capital of France?\n",
            "Your answer: paris\n",
            "Correct!\n",
            "\n",
            "Question 2: What is the largest planet in our solar system?\n",
            "Your answer: mars\n",
            "incorrect. the correct answer is Jupiter\n",
            "\n",
            "Question 3: What is the capital of Japan?\n",
            "Your answer: tokyo\n",
            "Correct!\n",
            "\n",
            "Question 4: What is the largest country in the world by land area?\n",
            "Your answer: russia\n",
            "Correct!\n",
            "\n",
            "Question 5: What is the capital of Australia?\n",
            "Your answer: exit\n",
            "Quiz complete! You scored 3/5\n"
          ]
        }
      ],
      "source": [
        "flashcards=[\n",
        "    {\n",
        "        \"question\": \"What is the capital of France?\",\n",
        "        \"answer\": \"Paris\"\n",
        "    },\n",
        "    {\n",
        "        \"question\": \"What is the largest planet in our solar system?\",\n",
        "        \"answer\": \"Jupiter\"\n",
        "    },\n",
        "    {\n",
        "        \"question\": \"What is the capital of Japan?\",\n",
        "        \"answer\": \"Tokyo\"\n",
        "    },\n",
        "    {\n",
        "        \"question\": \"What is the largest country in the world by land area?\",\n",
        "        \"answer\": \"Russia\"\n",
        "    },\n",
        "    {\n",
        "        \"question\": \"What is the capital of Australia?\",\n",
        "        \"answer\": \"Canberra\"\n",
        "    }\n",
        "]\n",
        "def run_quiz(cards):\n",
        "  print(\"wlcome to the quizzer. type 'exit' to quit.\\n\")\n",
        "  score=0\n",
        "  for i, card in enumerate(cards):\n",
        "    print(f\"Question {i+1}: {card['question']}\")\n",
        "    user_answer=input(\"Your answer: \").strip()\n",
        "    if user_answer.lower()== 'exit':\n",
        "        break\n",
        "    if user_answer.lower()==card[\"answer\"].lower():\n",
        "        print(\"Correct!\\n\")\n",
        "        score+=1\n",
        "    else:\n",
        "        print(f\"incorrect. the correct answer is {card['answer']}\\n\")\n",
        "  print(f\"Quiz complete! You scored {score}/{len(cards)}\")\n",
        "run_quiz(flashcards)"
      ]
    }
  ]
}